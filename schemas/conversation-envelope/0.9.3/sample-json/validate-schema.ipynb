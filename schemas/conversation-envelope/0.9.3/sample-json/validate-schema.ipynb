{
 "cells": [
  {
   "attachments": {},
   "cell_type": "markdown",
   "metadata": {},
   "source": [
    "# Validate example JSON conversation envelope against the schema\n",
    "\n",
    "# Validate JSON Conversation Envelope\n",
    "The following code takes all of the sample conversaton envelopes events in this directory `sample-json` and validates them against the schema `/../conversation-envelope-schema.json`"
   ]
  },
  {
   "cell_type": "code",
   "execution_count": 4,
   "metadata": {},
   "outputs": [
    {
     "name": "stdout",
     "output_type": "stream",
     "text": [
      "Validating JSON: example-ovon-user-input-minimal.json\n",
      "Validating JSON: example-ovon-user-input-verbose.json\n",
      "Validating JSON: example-ovon-system-response-minimal.json\n",
      "Validating JSON: example-ovon-system-response-verbose.json\n",
      "Validating JSON: example-ovon-response-and-delegate-minimal.json\n",
      "Validating JSON: example-ovon-response-and-delegate-verbose.json\n",
      "Validating JSON: example-ovon-bye-minimal.json\n",
      "Validating JSON: example-ovon-requestManifest.json\n",
      "Validating JSON: example-ovon-publishManifest.json\n",
      "Validating JSON: example-ovon-findAssistant.json\n",
      "Validating JSON: example-ovon-proposeAssistant.json\n"
     ]
    }
   ],
   "source": [
    "from jsonschema import validate\n",
    "import json\n",
    "\n",
    "with open(\"../conversation-envelope-schema.json\", 'r') as f:\n",
    "    schema = json.load(f)\n",
    "\n",
    "stems=[\n",
    "    'example-ovon-user-input-minimal',\n",
    "    'example-ovon-user-input-verbose',\n",
    "    'example-ovon-system-response-minimal',\n",
    "    'example-ovon-system-response-verbose',\n",
    "    'example-ovon-response-and-delegate-minimal',\n",
    "    'example-ovon-response-and-delegate-verbose',\n",
    "    'example-ovon-bye-minimal',\n",
    "    'example-ovon-requestManifest',\n",
    "    'example-ovon-publishManifest',\n",
    "    'example-ovon-findAssistant',\n",
    "    'example-ovon-proposeAssistant'   \n",
    "]\n",
    "\n",
    "for s in stems:\n",
    "    print(f'Validating JSON: {s}.json')\n",
    "    with open(f'{s}.json', 'r') as f:     \n",
    "        instance = json.load(f)\n",
    "        validate(instance=instance, schema=schema)     "
   ]
  }
 ],
 "metadata": {
  "kernelspec": {
   "display_name": "Python 3",
   "language": "python",
   "name": "python3"
  },
  "language_info": {
   "codemirror_mode": {
    "name": "ipython",
    "version": 3
   },
   "file_extension": ".py",
   "mimetype": "text/x-python",
   "name": "python",
   "nbconvert_exporter": "python",
   "pygments_lexer": "ipython3",
   "version": "3.12.6"
  },
  "orig_nbformat": 4,
  "vscode": {
   "interpreter": {
    "hash": "31f2aee4e71d21fbe5cf8b01ff0e069b9275f58929596ceb00d14d90e3e16cd6"
   }
  }
 },
 "nbformat": 4,
 "nbformat_minor": 2
}
