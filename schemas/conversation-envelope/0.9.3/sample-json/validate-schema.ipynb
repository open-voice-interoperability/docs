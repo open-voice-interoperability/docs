{
 "cells": [
  {
   "attachments": {},
   "cell_type": "markdown",
   "metadata": {},
   "source": [
    "# Validate example JSON conversation envelope against the schema\n",
    "\n",
    "# Validate JSON Conversation Envelope\n",
    "The following code takes all of the sample conversaton envelopes events in this directory `sample-json` and validates them against the schema `/../conversation-envelope-schema.json`"
   ]
  },
  {
   "cell_type": "code",
   "execution_count": 3,
   "metadata": {},
   "outputs": [
    {
     "name": "stdout",
     "output_type": "stream",
     "text": [
      "Validating JSON: example-ovon-user-input-minimal.json\n",
      "Validating JSON: example-ovon-user-input-verbose.json\n",
      "Validating JSON: example-ovon-system-response-minimal.json\n",
      "Validating JSON: example-ovon-system-response-verbose.json\n",
      "Validating JSON: example-ovon-response-and-delegate-minimal.json\n"
     ]
    },
    {
     "ename": "ValidationError",
     "evalue": "'hat' is not of type 'boolean'\n\nFailed validating 'type' in schema['properties']['ovon']['properties']['events']['items']['properties']['private']:\n    {'description': \"Set to true if the event is intended for the 'to' \"\n                    'particpant only.',\n     'type': 'boolean'}\n\nOn instance['ovon']['events'][1]['private']:\n    'hat'",
     "output_type": "error",
     "traceback": [
      "\u001b[1;31m---------------------------------------------------------------------------\u001b[0m",
      "\u001b[1;31mValidationError\u001b[0m                           Traceback (most recent call last)",
      "Cell \u001b[1;32mIn[3], line 25\u001b[0m\n\u001b[0;32m     23\u001b[0m \u001b[38;5;28;01mwith\u001b[39;00m \u001b[38;5;28mopen\u001b[39m(\u001b[38;5;124mf\u001b[39m\u001b[38;5;124m'\u001b[39m\u001b[38;5;132;01m{\u001b[39;00ms\u001b[38;5;132;01m}\u001b[39;00m\u001b[38;5;124m.json\u001b[39m\u001b[38;5;124m'\u001b[39m, \u001b[38;5;124m'\u001b[39m\u001b[38;5;124mr\u001b[39m\u001b[38;5;124m'\u001b[39m) \u001b[38;5;28;01mas\u001b[39;00m f:     \n\u001b[0;32m     24\u001b[0m     instance \u001b[38;5;241m=\u001b[39m json\u001b[38;5;241m.\u001b[39mload(f)\n\u001b[1;32m---> 25\u001b[0m     \u001b[43mvalidate\u001b[49m\u001b[43m(\u001b[49m\u001b[43minstance\u001b[49m\u001b[38;5;241;43m=\u001b[39;49m\u001b[43minstance\u001b[49m\u001b[43m,\u001b[49m\u001b[43m \u001b[49m\u001b[43mschema\u001b[49m\u001b[38;5;241;43m=\u001b[39;49m\u001b[43mschema\u001b[49m\u001b[43m)\u001b[49m     \n",
      "File \u001b[1;32m~\\AppData\\Local\\Packages\\PythonSoftwareFoundation.Python.3.12_qbz5n2kfra8p0\\LocalCache\\local-packages\\Python312\\site-packages\\jsonschema\\validators.py:1312\u001b[0m, in \u001b[0;36mvalidate\u001b[1;34m(instance, schema, cls, *args, **kwargs)\u001b[0m\n\u001b[0;32m   1310\u001b[0m error \u001b[38;5;241m=\u001b[39m exceptions\u001b[38;5;241m.\u001b[39mbest_match(validator\u001b[38;5;241m.\u001b[39miter_errors(instance))\n\u001b[0;32m   1311\u001b[0m \u001b[38;5;28;01mif\u001b[39;00m error \u001b[38;5;129;01mis\u001b[39;00m \u001b[38;5;129;01mnot\u001b[39;00m \u001b[38;5;28;01mNone\u001b[39;00m:\n\u001b[1;32m-> 1312\u001b[0m     \u001b[38;5;28;01mraise\u001b[39;00m error\n",
      "\u001b[1;31mValidationError\u001b[0m: 'hat' is not of type 'boolean'\n\nFailed validating 'type' in schema['properties']['ovon']['properties']['events']['items']['properties']['private']:\n    {'description': \"Set to true if the event is intended for the 'to' \"\n                    'particpant only.',\n     'type': 'boolean'}\n\nOn instance['ovon']['events'][1]['private']:\n    'hat'"
     ]
    }
   ],
   "source": [
    "from jsonschema import validate\n",
    "import json\n",
    "\n",
    "with open(\"../conversation-envelope-schema.json\", 'r') as f:\n",
    "    schema = json.load(f)\n",
    "\n",
    "stems=[\n",
    "    'example-ovon-user-input-minimal',\n",
    "    'example-ovon-user-input-verbose',\n",
    "    'example-ovon-system-response-minimal',\n",
    "    'example-ovon-system-response-verbose',\n",
    "    'example-ovon-response-and-delegate-minimal',\n",
    "    'example-ovon-response-and-delegate-verbose',\n",
    "    'example-ovon-bye-minimal',\n",
    "    'example-ovon-requestManifest',\n",
    "    'example-ovon-publishManifest',\n",
    "    'example-ovon-findAssistant',\n",
    "    'example-ovon-proposeAssistant'   \n",
    "]\n",
    "\n",
    "for s in stems:\n",
    "    print(f'Validating JSON: {s}.json')\n",
    "    with open(f'{s}.json', 'r') as f:     \n",
    "        instance = json.load(f)\n",
    "        validate(instance=instance, schema=schema)     "
   ]
  }
 ],
 "metadata": {
  "kernelspec": {
   "display_name": "Python 3",
   "language": "python",
   "name": "python3"
  },
  "language_info": {
   "codemirror_mode": {
    "name": "ipython",
    "version": 3
   },
   "file_extension": ".py",
   "mimetype": "text/x-python",
   "name": "python",
   "nbconvert_exporter": "python",
   "pygments_lexer": "ipython3",
   "version": "3.12.6"
  },
  "orig_nbformat": 4,
  "vscode": {
   "interpreter": {
    "hash": "31f2aee4e71d21fbe5cf8b01ff0e069b9275f58929596ceb00d14d90e3e16cd6"
   }
  }
 },
 "nbformat": 4,
 "nbformat_minor": 2
}
