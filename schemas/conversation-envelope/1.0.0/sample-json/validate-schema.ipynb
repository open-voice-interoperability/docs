{
 "cells": [
  {
   "attachments": {},
   "cell_type": "markdown",
   "metadata": {},
   "source": [
    "# Validate example JSON conversation envelope against the schema\n",
    "\n",
    "# Validate JSON Conversation Envelope\n",
    "The following code takes all of the sample conversaton envelopes events in this directory `sample-json` and validates them against the schema `/../conversation-envelope-schema.json`"
   ]
  },
  {
   "cell_type": "code",
   "execution_count": 8,
   "metadata": {},
   "outputs": [
    {
     "name": "stdout",
     "output_type": "stream",
     "text": [
      "Validating JSON: example-envelope.json\n",
      "Validating JSON: example-invite.json\n",
      "Validating JSON: example-uninvite.json\n",
      "Validating JSON: example-declineInvite.json\n",
      "Validating JSON: example-bye.json\n",
      "Validating JSON: example-context.json\n",
      "Validating JSON: example-getManifests1.json\n",
      "Validating JSON: example-getManifests2.json\n",
      "Validating JSON: example-getManifests3.json\n",
      "Validating JSON: example-publishManifests.json\n",
      "Validating JSON: example-utterance.json\n",
      "Validating JSON: example-requestFloor.json\n",
      "Validating JSON: example-grantFloor.json\n",
      "Validating JSON: example-revokeFloor.json\n",
      "Validating JSON: example-yieldFloor.json\n"
     ]
    }
   ],
   "source": [
    "from jsonschema import validate\n",
    "import json\n",
    "\n",
    "with open(\"../conversation-envelope-schema.json\", 'r') as f:\n",
    "    schema = json.load(f)\n",
    "\n",
    "stems=[\n",
    "    'example-envelope',\n",
    "    'example-invite',\n",
    "    'example-uninvite',\n",
    "    'example-declineInvite',\n",
    "    'example-bye',\n",
    "    'example-context',\n",
    "    'example-getManifests1',\n",
    "    'example-getManifests2',\n",
    "    'example-getManifests3',\n",
    "    'example-publishManifests',\n",
    "    'example-utterance',\n",
    "    'example-requestFloor',\n",
    "    'example-grantFloor',\n",
    "    'example-revokeFloor',\n",
    "    'example-yieldFloor'\n",
    "]\n",
    "    \n",
    "\n",
    "for s in stems:\n",
    "    print(f'Validating JSON: {s}.json')\n",
    "    with open(f'{s}.json', 'r') as f:     \n",
    "        instance = json.load(f)\n",
    "        validate(instance=instance, schema=schema)     "
   ]
  },
  {
   "cell_type": "markdown",
   "metadata": {},
   "source": []
  }
 ],
 "metadata": {
  "kernelspec": {
   "display_name": "Python 3",
   "language": "python",
   "name": "python3"
  },
  "language_info": {
   "codemirror_mode": {
    "name": "ipython",
    "version": 3
   },
   "file_extension": ".py",
   "mimetype": "text/x-python",
   "name": "python",
   "nbconvert_exporter": "python",
   "pygments_lexer": "ipython3",
   "version": "3.12.7"
  },
  "orig_nbformat": 4,
  "vscode": {
   "interpreter": {
    "hash": "31f2aee4e71d21fbe5cf8b01ff0e069b9275f58929596ceb00d14d90e3e16cd6"
   }
  }
 },
 "nbformat": 4,
 "nbformat_minor": 2
}
