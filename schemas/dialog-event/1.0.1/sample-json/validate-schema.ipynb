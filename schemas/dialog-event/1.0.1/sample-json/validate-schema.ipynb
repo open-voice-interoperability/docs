{
 "cells": [
  {
   "attachments": {},
   "cell_type": "markdown",
   "metadata": {},
   "source": [
    "# Validate example JSON manifests the schema\n",
    "\n",
    "The following code takes sample conversaton envelopes events in this directory `sample-json` and validates them against the schema `dialog-event-schema.json`"
   ]
  },
  {
   "cell_type": "code",
   "execution_count": 3,
   "metadata": {},
   "outputs": [
    {
     "name": "stdout",
     "output_type": "stream",
     "text": [
      "Validating JSON: figure2.json\n",
      "Validating JSON: figure3.json\n",
      "Validating JSON: figure4.json\n",
      "Validating JSON: utterance0.json\n",
      "Validating JSON: utterance4a.json\n",
      "Validating JSON: utterance5.json\n"
     ]
    }
   ],
   "source": [
    "from jsonschema import validate\n",
    "import json\n",
    "\n",
    "with open(\"../dialog-event-schema.json\", 'r') as f:\n",
    "    schema = json.load(f)\n",
    "\n",
    "stems=[\n",
    "    'figure2',\n",
    "    'figure3',\n",
    "    'figure4',\n",
    "    'utterance0',\n",
    "    'utterance4a',\n",
    "    'utterance5'\n",
    "]\n",
    "\n",
    "for s in stems:\n",
    "    print(f'Validating JSON: {s}.json')\n",
    "    with open(f'../sample-json/{s}.json', 'r') as f:     \n",
    "        instance = json.load(f)\n",
    "        validate(instance=instance, schema=schema)     "
   ]
  }
 ],
 "metadata": {
  "kernelspec": {
   "display_name": "Python 3",
   "language": "python",
   "name": "python3"
  },
  "language_info": {
   "codemirror_mode": {
    "name": "ipython",
    "version": 3
   },
   "file_extension": ".py",
   "mimetype": "text/x-python",
   "name": "python",
   "nbconvert_exporter": "python",
   "pygments_lexer": "ipython3",
   "version": "3.12.4"
  },
  "orig_nbformat": 4,
  "vscode": {
   "interpreter": {
    "hash": "31f2aee4e71d21fbe5cf8b01ff0e069b9275f58929596ceb00d14d90e3e16cd6"
   }
  }
 },
 "nbformat": 4,
 "nbformat_minor": 2
}
